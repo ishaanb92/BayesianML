{
 "cells": [
  {
   "cell_type": "markdown",
   "metadata": {},
   "source": [
    "# Expectation-maximization algorithm"
   ]
  },
  {
   "cell_type": "markdown",
   "metadata": {},
   "source": [
    "In this assignment, we will derive and implement formulas for Gaussian Mixture Model — one of the most commonly used methods for performing soft clustering of the data. "
   ]
  },
  {
   "cell_type": "markdown",
   "metadata": {},
   "source": [
    "### Installation\n",
    "\n",
    "We will need ```numpy```, ```scikit-learn```, ```matplotlib``` libraries for this assignment"
   ]
  },
  {
   "cell_type": "code",
   "execution_count": 14,
   "metadata": {},
   "outputs": [],
   "source": [
    "import numpy as np\n",
    "from numpy.linalg import slogdet, det, solve\n",
    "import matplotlib.pyplot as plt\n",
    "import time\n",
    "from sklearn.datasets import load_digits\n",
    "from grader import Grader\n",
    "%matplotlib inline"
   ]
  },
  {
   "cell_type": "markdown",
   "metadata": {},
   "source": [
    "### Grading\n",
    "We will create a grader instance below and use it to collect your answers. Note that these outputs will be stored locally inside grader and will be uploaded to the platform only after running submitting function in the last part of this assignment. If you want to make a partial submission, you can run that cell anytime you want."
   ]
  },
  {
   "cell_type": "code",
   "execution_count": 2,
   "metadata": {},
   "outputs": [],
   "source": [
    "grader = Grader()"
   ]
  },
  {
   "cell_type": "markdown",
   "metadata": {},
   "source": [
    "## Implementing EM for GMM"
   ]
  },
  {
   "cell_type": "markdown",
   "metadata": {},
   "source": [
    "For debugging we will use samples from gaussian mixture model with unknown mean, variance and priors. We also added inital values of parameters for grading purposes."
   ]
  },
  {
   "cell_type": "code",
   "execution_count": 3,
   "metadata": {},
   "outputs": [
    {
     "data": {
      "image/png": "[encoded data removed]",
      "text/plain": [
       "<Figure size 432x288 with 1 Axes>"
      ]
     },
     "metadata": {
      "needs_background": "light"
     },
     "output_type": "display_data"
    }
   ],
   "source": [
    "samples = np.load('samples.npz')\n",
    "X = samples['data']\n",
    "pi0 = samples['pi0']\n",
    "mu0 = samples['mu0']\n",
    "sigma0 = samples['sigma0']\n",
    "plt.scatter(X[:, 0], X[:, 1], c='grey', s=30)\n",
    "plt.axis('equal')\n",
    "plt.show()"
   ]
  },
  {
   "cell_type": "markdown",
   "metadata": {},
   "source": [
    "### Reminder"
   ]
  },
  {
   "cell_type": "markdown",
   "metadata": {},
   "source": [
    "Remember, that EM algorithm is a coordinate descent optimization of variational lower bound $\\mathcal{L}(\\theta, q) = \\int q(T) \\log\\frac{P(X, T|\\theta)}{q(T)}dT\\to \\max$.\n",
    "\n",
    "<b>E-step</b>:<br>\n",
    "$\\mathcal{L}(\\theta, q) \\to \\max\\limits_{q} \\Leftrightarrow \\mathcal{KL} [q(T) \\,\\|\\, p(T|X, \\theta)] \\to \\min \\limits_{q\\in Q} \\Rightarrow q(T) = p(T|X, \\theta)$<br>\n",
    "<b>M-step</b>:<br> \n",
    "$\\mathcal{L}(\\theta, q) \\to \\max\\limits_{\\theta} \\Leftrightarrow \\mathbb{E}_{q(T)}\\log p(X,T | \\theta) \\to \\max\\limits_{\\theta}$\n",
    "\n",
    "For GMM, $\\theta$ is a set of parameters that consists of mean vectors $\\mu_c$, covariance matrices $\\Sigma_c$ and priors $\\pi_c$ for each component.\n",
    "\n",
    "Latent variables $T$ are indices of components to which each data point is assigned. $T_i$ (cluster index for object $i$) is a binary vector with only one active bit in position corresponding to the true component. For example, if we have $C=3$ components and object $i$ lies in first component, $T_i = [1, 0, 0]$.\n",
    "\n",
    "The joint distribution can be written as follows: $p(T, X \\mid \\theta) =  \\prod\\limits_{i=1}^N p(T_i, X_i \\mid \\theta) = \\prod\\limits_{i=1}^N \\prod\\limits_{c=1}^C [\\pi_c \\mathcal{N}(X_i \\mid \\mu_c, \\Sigma_c)]^{T_{ic}}$."
   ]
  },
  {
   "cell_type": "markdown",
   "metadata": {},
   "source": [
    "### E-step\n",
    "In this step we need to estimate the posterior distribution over the latent variables with fixed values of parameters: $q(T) = p(T|X, \\theta)$. We will assume that $T_i$ (cluster index for object $i$) is a binary vector with only one '1' in position corresponding to the true component. To do so we need to compute $\\gamma_{ic} = P(T_{ic} = 1 \\mid X, \\theta)$. Note that $\\sum\\limits_{c=1}^C\\gamma_{ic}=1$.\n"
   ]
  },
  {
   "cell_type": "markdown",
   "metadata": {},
   "source": [
    "<b>Important trick 1:</b> It is important to avoid numerical errors. At some point you will have to compute the formula of the following form: $\\frac{e^{x_i}}{\\sum_j e^{x_j}}$. When you compute exponents of large numbers, you get huge numerical errors (some numbers will simply become infinity). You can avoid this by dividing numerator and denominator by $e^{\\max(x)}$: $\\frac{e^{x_i-\\max(x)}}{\\sum_j e^{x_j - \\max(x)}}$. After this transformation maximum value in the denominator will be equal to one. All other terms will contribute smaller values. This trick is called log-sum-exp. So, to compute desired formula you first subtract maximum value from each component in vector $X$ and then compute everything else as before.\n",
    "\n",
    "<b>Important trick 2:</b> You will probably need to compute formula of the form $A^{-1}x$ at some point. You would normally inverse $A$ and then multiply it by $x$. A bit faster and more numerically accurate way to do this is to solve the equation $Ay = x$. Its solution is $y=A^{-1}x$, but the equation $Ay = x$ can be solved by Gaussian elimination procedure. You can use ```np.linalg.solve``` for this.\n",
    "\n",
    "<b>Other usefull functions: </b> <a href=\"https://docs.scipy.org/doc/numpy/reference/generated/numpy.linalg.slogdet.html\">```slogdet```</a> and <a href=\"https://docs.scipy.org/doc/numpy/reference/generated/numpy.linalg.det.html#numpy.linalg.det\">```det```</a>"
   ]
  },
  {
   "cell_type": "markdown",
   "metadata": {},
   "source": [
    "<b>Task 1:</b> Implement E-step for GMM using template below."
   ]
  },
  {
   "cell_type": "code",
   "execution_count": 4,
   "metadata": {},
   "outputs": [],
   "source": [
    "def E_step(X, pi, mu, sigma):\n",
    "    \"\"\"\n",
    "    Performs E-step on GMM model\n",
    "    Each input is numpy array:\n",
    "    X: (N x d), data points\n",
    "    pi: (C), mixture component weights \n",
    "    mu: (C x d), mixture component means\n",
    "    sigma: (C x d x d), mixture component covariance matrices\n",
    "    \n",
    "    Returns:\n",
    "    gamma: (N x C), probabilities of clusters for objects\n",
    "    \"\"\"\n",
    "    N = X.shape[0] # number of objects\n",
    "    C = pi.shape[0] # number of clusters\n",
    "    d = mu.shape[1] # dimension of each object\n",
    "    gamma = np.zeros((N, C)) # distribution q(T)\n",
    "\n",
    "    ### YOUR CODE HERE\n",
    "    for s_id in range(N):\n",
    "        for c in range(C):\n",
    "            #Compute normal densities with log-sum-exp trick\n",
    "            gamma[s_id,c] = compute_gamma_exp(x=X[s_id,:],mu=mu[c,:],sigma=sigma[c,:,:],pi=pi[c])\n",
    "        max_elem = np.amax(gamma[s_id,:])\n",
    "        gamma[s_id,:] = np.subtract(gamma[s_id,:],max_elem)\n",
    "        gamma[s_id,:] = np.exp(gamma[s_id,:])\n",
    "        gamma[s_id,:] = np.divide(gamma[s_id,:],np.sum(gamma[s_id,:]))\n",
    "            \n",
    "    return gamma\n",
    "\n",
    "def compute_gamma_exp(x,mu,sigma,pi):\n",
    "    \"\"\"\n",
    "    Compute exponenent used in gamma calc\n",
    "    x : d-dimensional data point\n",
    "    mu : d-dimensional mean\n",
    "    sigma : (d,d) dimensional covaraiance matrix\n",
    "    \n",
    "    Returns: \n",
    "        exp(num - log(denom) + log(pi))\n",
    "        num : Numerator of MV gaussian\n",
    "        denom : Denom of MV gaussian\n",
    "    \n",
    "    \"\"\"\n",
    "    dim = mu.shape[0]\n",
    "    diff = x-mu\n",
    "    sigma_inv = np.linalg.solve(sigma,np.identity(dim))\n",
    "    num = np.dot(diff.T,sigma_inv)\n",
    "    num = np.dot(num,diff)\n",
    "    num = -0.5*num\n",
    "    sigma_det = np.linalg.det(sigma)\n",
    "    denom = np.sqrt(np.power((2*np.pi),dim)*sigma_det)\n",
    "    exp = num - np.log(denom) + np.log(pi)\n",
    "    return exp"
   ]
  },
  {
   "cell_type": "code",
   "execution_count": 5,
   "metadata": {},
   "outputs": [
    {
     "name": "stdout",
     "output_type": "stream",
     "text": [
      "Current answer for task Task 1 (E-step) is: 0.5337178741081262\n"
     ]
    }
   ],
   "source": [
    "gamma = E_step(X, pi0, mu0, sigma0)\n",
    "grader.submit_e_step(gamma)"
   ]
  },
  {
   "cell_type": "markdown",
   "metadata": {},
   "source": [
    "### M-step\n",
    "\n",
    "In M-step we need to maximize $\\mathbb{E}_{q(T)}\\log p(X,T | \\theta)$ with respect to $\\theta$. In our model this means that we need to find optimal values of $\\pi$, $\\mu$, $\\Sigma$. To do so, you need to compute the derivatives and \n",
    "set them to zero. You should start by deriving formulas for $\\mu$ as it is the easiest part. Then move on to $\\Sigma$. Here it is crucial to optimize function w.r.t. to $\\Lambda = \\Sigma^{-1}$ and then inverse obtained result. Finaly, to compute $\\pi$, you will need <a href=\"https://www3.nd.edu/~jstiver/FIN360/Constrained%20Optimization.pdf\">Lagrange Multipliers technique</a> to satisfy constraint $\\sum\\limits_{i=1}^{n}\\pi_i = 1$.\n",
    "\n",
    "<br>\n",
    "<b>Important note:</b> You will need to compute derivatives of scalars with respect to matrices. To refresh this technique from previous courses, see <a href=\"https://en.wikipedia.org/wiki/Matrix_calculus\"> wiki article</a> about it . Main formulas of matrix derivatives can be found in <a href=\"http://www2.imm.dtu.dk/pubdb/views/edoc_download.php/3274/pdf/imm3274.pdf\">Chapter 2 of The Matrix Cookbook</a>. For example, there you may find that $\\frac{\\partial}{\\partial A}\\log |A| = A^{-T}$.\n"
   ]
  },
  {
   "cell_type": "markdown",
   "metadata": {},
   "source": [
    "<b>Task 2:</b> Implement M-step for GMM using template below."
   ]
  },
  {
   "cell_type": "code",
   "execution_count": 6,
   "metadata": {},
   "outputs": [],
   "source": [
    "def M_step(X, gamma):\n",
    "    \"\"\"\n",
    "    Performs M-step on GMM model\n",
    "    Each input is numpy array:\n",
    "    X: (N x d), data points\n",
    "    gamma: (N x C), distribution q(T)  \n",
    "    \n",
    "    Returns:\n",
    "    pi: (C)\n",
    "    mu: (C x d)\n",
    "    sigma: (C x d x d)\n",
    "    \"\"\"\n",
    "    N = X.shape[0] # number of objects\n",
    "    C = gamma.shape[1] # number of clusters\n",
    "    d = X.shape[1] # dimension of each object\n",
    "\n",
    "    ### YOUR CODE HERE\n",
    "    mu = np.zeros((C,d))\n",
    "    sigma = np.zeros((C,d,d))\n",
    "    pi = np.zeros((C))\n",
    "    \n",
    "    # Calculate mu\n",
    "    for c in range(C):\n",
    "        for idx in range(N):\n",
    "            mu[c,:] += np.multiply(gamma[idx,c],X[idx,:])\n",
    "        mu[c,:] = np.divide(mu[c,:],np.sum(gamma[:,c]))\n",
    "    \n",
    "    # Calculate sigma\n",
    "    for c in range(C):\n",
    "        for idx in range(N):\n",
    "            sigma[c,:,:] += np.outer((X[idx,:] - mu[c,:]),(X[idx,:]-mu[c,:]))*gamma[idx,c]\n",
    "        sigma[c,:,:] = np.divide(sigma[c,:,:],np.sum(gamma[:,c]))\n",
    "    \n",
    "    # Calculate pi\n",
    "    for c in range(C):\n",
    "        pi[c] = np.divide(np.sum(gamma[:,c]),N)\n",
    "\n",
    "    return pi, mu, sigma"
   ]
  },
  {
   "cell_type": "code",
   "execution_count": 7,
   "metadata": {},
   "outputs": [
    {
     "name": "stdout",
     "output_type": "stream",
     "text": [
      "Current answer for task Task 2 (M-step: mu) is: 2.8993918820503835\n",
      "Current answer for task Task 2 (M-step: sigma) is: 5.9771052168975265\n",
      "Current answer for task Task 2 (M-step: pi) is: 0.5507624459218775\n"
     ]
    }
   ],
   "source": [
    "gamma = E_step(X, pi0, mu0, sigma0)\n",
    "pi, mu, sigma = M_step(X, gamma)\n",
    "grader.submit_m_step(pi, mu, sigma)"
   ]
  },
  {
   "cell_type": "markdown",
   "metadata": {},
   "source": [
    "### Loss function"
   ]
  },
  {
   "cell_type": "markdown",
   "metadata": {},
   "source": [
    "Finally, we need some function to track convergence. We will use variational lower bound $\\mathcal{L}$ for this purpose. We will stop our EM iterations when $\\mathcal{L}$ will saturate. Usually, you will need only about 10-20 iterations to converge. It is also useful to check that this function never decreases during training. If it does, you have a bug in your code.\n",
    "\n",
    "<b>Task 3:</b> Implement a function that will compute $\\mathcal{L}$ using template below.\n",
    "\n",
    "$$\\mathcal{L} = \\sum_{n=1}^{N} \\sum_{k=1}^{K} \\mathbb{E}[z_{n, k}] (\\log \\pi_k + \\log \\mathcal{N}(x_n | \\mu_k, \\sigma_k)) - \\sum_{n=1}^{N} \\sum_{k=1}^{K} \\mathbb{E}[z_{n, k}] \\log \\mathbb{E}[z_{n, k}]$$"
   ]
  },
  {
   "cell_type": "code",
   "execution_count": 10,
   "metadata": {},
   "outputs": [],
   "source": [
    "def compute_vlb(X, pi, mu, sigma, gamma):\n",
    "    \"\"\"\n",
    "    Each input is numpy array:\n",
    "    X: (N x d), data points\n",
    "    gamma: (N x C), distribution q(T)  \n",
    "    pi: (C)\n",
    "    mu: (C x d)\n",
    "    sigma: (C x d x d)\n",
    "    \n",
    "    Returns value of variational lower bound\n",
    "    \"\"\"\n",
    "    N = X.shape[0] # number of objects\n",
    "    C = gamma.shape[1] # number of clusters\n",
    "    d = X.shape[1] # dimension of each object\n",
    "\n",
    "    # Code not optimized for performance -- focus on readability \n",
    "    \n",
    "    loss_part_1 = 0\n",
    "    ### YOUR CODE HERE\n",
    "    for idx in range(N):\n",
    "        inner_sum = 0\n",
    "        for c in range(C):\n",
    "            inner_sum += gamma[idx,c]*compute_gamma_exp(x=X[idx,:],mu=mu[c,:],sigma=sigma[c,:,:],pi=pi[c])\n",
    "        loss_part_1 += inner_sum\n",
    "    \n",
    "    loss_part_2 = 0\n",
    "    for idx in range(N):\n",
    "        inner_sum = 0\n",
    "        for c in range(C):\n",
    "            inner_sum += gamma[idx,c]*np.log(gamma[idx,c])\n",
    "        loss_part_2 += inner_sum\n",
    "        \n",
    "    loss = loss_part_1 - loss_part_2\n",
    "            \n",
    "\n",
    "    return loss\n",
    "\n"
   ]
  },
  {
   "cell_type": "code",
   "execution_count": 11,
   "metadata": {},
   "outputs": [
    {
     "name": "stdout",
     "output_type": "stream",
     "text": [
      "Current answer for task Task 3 (VLB) is: -1213.973464306019\n"
     ]
    }
   ],
   "source": [
    "pi, mu, sigma = pi0, mu0, sigma0\n",
    "gamma = E_step(X, pi, mu, sigma)\n",
    "pi, mu, sigma = M_step(X, gamma)\n",
    "loss = compute_vlb(X, pi, mu, sigma, gamma)\n",
    "grader.submit_VLB(loss)"
   ]
  },
  {
   "cell_type": "markdown",
   "metadata": {},
   "source": [
    "### Bringing it all together"
   ]
  },
  {
   "cell_type": "markdown",
   "metadata": {},
   "source": [
    "Now that we have E step, M step and VLB, we can implement training loop. We will start at random values of $\\pi$, $\\mu$ and $\\Sigma$, train until $\\mathcal{L}$ stops changing and return the resulting points. We also know that EM algorithm sometimes stops at local optima. To avoid this we should restart algorithm multiple times from different starting positions. Each training trial should stop either when maximum number of iterations is reached or when relative improvement is smaller than given tolerance ($|\\frac{\\mathcal{L}_i-\\mathcal{L}_{i-1}}{\\mathcal{L}_{i-1}}| \\le \\text{rtol}$).\n",
    "\n",
    "Remember, that values of $\\pi$ that you generate must be non-negative and sum up to 1. Also, $\\Sigma$ matrices must be symmetric and positive semi-definite. If you don't know how to generate those matrices, you can use $\\Sigma=I$ as initialization.\n",
    "\n",
    "You will also sometimes get numerical errors because of component collapsing. The easiest way to deal with this problems is to simply restart the procedure.\n",
    "\n",
    "<b>Task 4:</b> Implement training procedure"
   ]
  },
  {
   "cell_type": "code",
   "execution_count": 31,
   "metadata": {},
   "outputs": [],
   "source": [
    "from sklearn.datasets import make_spd_matrix\n",
    "import random\n",
    "\n",
    "def train_EM(X, C, rtol=1e-3, max_iter=100, restarts=10):\n",
    "    '''\n",
    "    Starts with random initialization *restarts* times\n",
    "    Runs optimization until saturation with *rtol* reached\n",
    "    or *max_iter* iterations were made.\n",
    "    \n",
    "    X: (N, d), data points\n",
    "    C: int, number of clusters\n",
    "    '''\n",
    "    N = X.shape[0] # number of objects\n",
    "    d = X.shape[1] # dimension of each object\n",
    "    best_loss = None\n",
    "    best_pi = None\n",
    "    best_mu = None\n",
    "    best_sigma = None\n",
    "\n",
    "    for _ in range(restarts):\n",
    "        try:\n",
    "            # Initialize\n",
    "            mu,sigma,pi = init(X,C)\n",
    "            gamma = E_step(X, pi, mu, sigma)\n",
    "            pi, mu, sigma = M_step(X, gamma)\n",
    "            loss = compute_vlb(X, pi, mu, sigma, gamma)\n",
    "            print('Restart : {} Loss : {}'.format(_,loss))\n",
    "            for iteration in range(max_iter):\n",
    "                prev_loss = loss\n",
    "                gamma = E_step(X, pi, mu, sigma)\n",
    "                pi, mu, sigma = M_step(X, gamma)\n",
    "                loss = compute_vlb(X, pi, mu, sigma, gamma)\n",
    "                print('Restart : {} Iter : {} Loss : {}'.format(_,iteration,loss))\n",
    "                stop_condition = abs((loss-prev_loss)/prev_loss)\n",
    "                if stop_condition <= rtol:\n",
    "                    break\n",
    "            if best_loss is None:\n",
    "                best_loss = loss\n",
    "            else:\n",
    "                if loss < best_loss: #Update best loss\n",
    "                    best_loss = loss\n",
    "                    best_mu = mu\n",
    "                    best_pi = pi\n",
    "                    best_sigma = sigma\n",
    "                    \n",
    "        except np.linalg.LinAlgError:\n",
    "            print(\"Singular matrix: components collapsed\")\n",
    "            pass\n",
    "        \n",
    "    return best_loss, best_pi, best_mu, best_sigma\n",
    "\n",
    "def init(X,C):\n",
    "    \"\"\"\n",
    "    Function to initialize GMM parameters\n",
    "    Input: C number of clusters\n",
    "    Returns: mu,sigma,pi\n",
    "    \"\"\"\n",
    "    # For mu, randonly sample C points from X\n",
    "    indices = np.random.choice(X.shape[0],size=(C,))\n",
    "    mu = X[indices]\n",
    "    \n",
    "    #For sigma, use sklearn API to sample psd matrices for all clusters\n",
    "    sigma = np.asarray([make_spd_matrix(X.shape[1]) for c in range(C)])\n",
    "    \n",
    "    # Sample pi such they all sum to 1\n",
    "    pi = []\n",
    "    acc = 0\n",
    "    for c in range(C):\n",
    "        pi.append(random.random())\n",
    "    pi = np.asarray(pi)\n",
    "    pi = np.divide(pi,np.sum(pi))\n",
    "    \n",
    "    return mu,sigma,pi\n",
    "\n",
    "        "
   ]
  },
  {
   "cell_type": "code",
   "execution_count": 32,
   "metadata": {},
   "outputs": [
    {
     "name": "stdout",
     "output_type": "stream",
     "text": [
      "Restart : 0 Loss : -1109.2005714978561\n",
      "Restart : 0 Iter : 0 Loss : -1092.491639199402\n",
      "Restart : 0 Iter : 1 Loss : -1087.9586170568102\n",
      "Restart : 0 Iter : 2 Loss : -1083.0016971044085\n",
      "Restart : 0 Iter : 3 Loss : -1077.048700256627\n",
      "Restart : 0 Iter : 4 Loss : -1068.309889318818\n",
      "Restart : 0 Iter : 5 Loss : -1064.2025987706038\n",
      "Restart : 0 Iter : 6 Loss : -1063.9012850357976\n",
      "Restart : 1 Loss : -1217.617643613059\n",
      "Restart : 1 Iter : 0 Loss : -1201.594852701637\n",
      "Restart : 1 Iter : 1 Loss : -1195.2404244495674\n",
      "Restart : 1 Iter : 2 Loss : -1190.2945875100509\n",
      "Restart : 1 Iter : 3 Loss : -1185.7245520429676\n",
      "Restart : 1 Iter : 4 Loss : -1180.8721921726133\n",
      "Restart : 1 Iter : 5 Loss : -1175.3839173809713\n",
      "Restart : 1 Iter : 6 Loss : -1169.82103976165\n",
      "Restart : 1 Iter : 7 Loss : -1165.2197638515097\n",
      "Restart : 1 Iter : 8 Loss : -1162.3070472805964\n",
      "Restart : 1 Iter : 9 Loss : -1160.8868233768924\n",
      "Restart : 1 Iter : 10 Loss : -1160.2825482499145\n",
      "Restart : 2 Loss : -1168.01528323166\n",
      "Restart : 2 Iter : 0 Loss : -1159.3336988995609\n",
      "Restart : 2 Iter : 1 Loss : -1158.0982176680427\n",
      "Restart : 2 Iter : 2 Loss : -1157.8662763938491\n",
      "Restart : 3 Loss : -1229.783784978\n",
      "Restart : 3 Iter : 0 Loss : -1180.402100296535\n",
      "Restart : 3 Iter : 1 Loss : -1167.9030866898272\n",
      "Restart : 3 Iter : 2 Loss : -1162.2696008284722\n",
      "Restart : 3 Iter : 3 Loss : -1152.3907350290676\n",
      "Restart : 3 Iter : 4 Loss : -1132.6987027215116\n",
      "Restart : 3 Iter : 5 Loss : -1115.5220992279683\n",
      "Restart : 3 Iter : 6 Loss : -1107.051016127322\n",
      "Restart : 3 Iter : 7 Loss : -1103.6442731922084\n",
      "Restart : 3 Iter : 8 Loss : -1101.8679022458682\n",
      "Restart : 3 Iter : 9 Loss : -1100.6025121422022\n",
      "Restart : 3 Iter : 10 Loss : -1099.5108951366292\n",
      "Restart : 4 Loss : -1190.5245732734847\n",
      "Restart : 4 Iter : 0 Loss : -1163.7879395606926\n",
      "Restart : 4 Iter : 1 Loss : -1138.3558806480237\n",
      "Restart : 4 Iter : 2 Loss : -1096.7261317102561\n",
      "Restart : 4 Iter : 3 Loss : -1086.9849498333995\n",
      "Restart : 4 Iter : 4 Loss : -1081.9533419396168\n",
      "Restart : 4 Iter : 5 Loss : -1078.1139743006047\n",
      "Restart : 4 Iter : 6 Loss : -1074.3142957418647\n",
      "Restart : 4 Iter : 7 Loss : -1070.7590064587685\n",
      "Restart : 4 Iter : 8 Loss : -1067.9856096989931\n",
      "Restart : 4 Iter : 9 Loss : -1066.3467032630247\n",
      "Restart : 4 Iter : 10 Loss : -1065.393395728195\n",
      "Restart : 5 Loss : -1167.5838671298275\n",
      "Restart : 5 Iter : 0 Loss : -1126.278643317252\n",
      "Restart : 5 Iter : 1 Loss : -1101.177620330879\n",
      "Restart : 5 Iter : 2 Loss : -1094.1105435028712\n",
      "Restart : 5 Iter : 3 Loss : -1091.4755447209648\n",
      "Restart : 5 Iter : 4 Loss : -1088.6858099808062\n",
      "Restart : 5 Iter : 5 Loss : -1085.422362860609\n",
      "Restart : 5 Iter : 6 Loss : -1082.0187388105278\n",
      "Restart : 5 Iter : 7 Loss : -1077.8570694466696\n",
      "Restart : 5 Iter : 8 Loss : -1070.9957439969394\n",
      "Restart : 5 Iter : 9 Loss : -1064.906604224114\n",
      "Restart : 5 Iter : 10 Loss : -1064.0933636058185\n",
      "Restart : 6 Loss : -1167.8299484207782\n",
      "Restart : 6 Iter : 0 Loss : -1149.4975460891426\n",
      "Restart : 6 Iter : 1 Loss : -1143.312790655969\n",
      "Restart : 6 Iter : 2 Loss : -1137.817429707019\n",
      "Restart : 6 Iter : 3 Loss : -1133.1771616666822\n",
      "Restart : 6 Iter : 4 Loss : -1128.9836916136114\n",
      "Restart : 6 Iter : 5 Loss : -1125.1694516869757\n",
      "Restart : 6 Iter : 6 Loss : -1121.5663761482074\n",
      "Restart : 6 Iter : 7 Loss : -1117.4746437321714\n",
      "Restart : 6 Iter : 8 Loss : -1111.7926751999837\n",
      "Restart : 6 Iter : 9 Loss : -1103.8952311424837\n",
      "Restart : 6 Iter : 10 Loss : -1095.1067245538607\n",
      "Restart : 6 Iter : 11 Loss : -1084.9864718704905\n",
      "Restart : 6 Iter : 12 Loss : -1070.2080877217236\n",
      "Restart : 6 Iter : 13 Loss : -1064.1046530447575\n",
      "Restart : 6 Iter : 14 Loss : -1063.904740581727\n",
      "Restart : 7 Loss : -1187.9894016700596\n",
      "Restart : 7 Iter : 0 Loss : -1174.8474696946462\n",
      "Restart : 7 Iter : 1 Loss : -1169.2512415621718\n",
      "Restart : 7 Iter : 2 Loss : -1164.6619412915948\n",
      "Restart : 7 Iter : 3 Loss : -1161.8663337684184\n",
      "Restart : 7 Iter : 4 Loss : -1160.8133308466358\n",
      "Restart : 8 Loss : -1266.8668255615505\n",
      "Restart : 8 Iter : 0 Loss : -1185.951646423392\n",
      "Restart : 8 Iter : 1 Loss : -1161.049682073749\n",
      "Restart : 8 Iter : 2 Loss : -1144.4015423318774\n",
      "Restart : 8 Iter : 3 Loss : -1133.6232930470812\n",
      "Restart : 8 Iter : 4 Loss : -1127.8965910573427\n",
      "Restart : 8 Iter : 5 Loss : -1124.8649330327714\n",
      "Restart : 8 Iter : 6 Loss : -1122.6745342297647\n",
      "Restart : 8 Iter : 7 Loss : -1120.449976257877\n",
      "Restart : 8 Iter : 8 Loss : -1117.4130103909113\n",
      "Restart : 8 Iter : 9 Loss : -1112.542006672571\n",
      "Restart : 8 Iter : 10 Loss : -1104.7615623268032\n",
      "Restart : 8 Iter : 11 Loss : -1094.2776514469217\n",
      "Restart : 8 Iter : 12 Loss : -1080.3586254830655\n",
      "Restart : 8 Iter : 13 Loss : -1065.5376906005463\n",
      "Restart : 8 Iter : 14 Loss : -1064.1687275933016\n",
      "Restart : 8 Iter : 15 Loss : -1063.983946180071\n",
      "Restart : 9 Loss : -1165.8115809864944\n",
      "Restart : 9 Iter : 0 Loss : -1161.635030043752\n",
      "Restart : 9 Iter : 1 Loss : -1160.5718370493478\n",
      "Current answer for task Task 4 (EM) is: -1160.8133308466358\n"
     ]
    }
   ],
   "source": [
    "best_loss, best_pi, best_mu, best_sigma = train_EM(X, 3)\n",
    "grader.submit_EM(best_loss)"
   ]
  },
  {
   "cell_type": "markdown",
   "metadata": {},
   "source": [
    "If you implemented all the steps correctly, your algorithm should converge in about 20 iterations. Let's plot the clusters to see it. We will assign a cluster label as the most probable cluster index. This can be found using matrix $\\gamma$ computed on last E-step. \n"
   ]
  },
  {
   "cell_type": "code",
   "execution_count": 33,
   "metadata": {},
   "outputs": [
    {
     "data": {
      "image/png": "[encoded data removed]",
      "text/plain": [
       "<Figure size 432x288 with 1 Axes>"
      ]
     },
     "metadata": {
      "needs_background": "light"
     },
     "output_type": "display_data"
    }
   ],
   "source": [
    "gamma = E_step(X, best_pi, best_mu, best_sigma)\n",
    "labels = gamma.argmax(1)\n",
    "plt.scatter(X[:, 0], X[:, 1], c=labels, s=30)\n",
    "plt.axis('equal')\n",
    "plt.show()"
   ]
  },
  {
   "cell_type": "markdown",
   "metadata": {},
   "source": [
    "### Authorization & Submission\n",
    "To submit assignment parts to Cousera platform, please, enter your e-mail and your token into variables below. You can generate the token on this programming assignment page. <b>Note:</b> Token expires 30 minutes after generation."
   ]
  },
  {
   "cell_type": "code",
   "execution_count": null,
   "metadata": {
    "collapsed": true
   },
   "outputs": [],
   "source": [
    "STUDENT_EMAIL = # EMAIL HERE\n",
    "STUDENT_TOKEN = # TOKEN HERE\n",
    "grader.status()"
   ]
  },
  {
   "cell_type": "markdown",
   "metadata": {},
   "source": [
    "If you want to submit these answers, run cell below"
   ]
  },
  {
   "cell_type": "code",
   "execution_count": null,
   "metadata": {
    "collapsed": true
   },
   "outputs": [],
   "source": [
    "grader.submit(STUDENT_EMAIL, STUDENT_TOKEN)"
   ]
  }
 ],
 "metadata": {
  "kernelspec": {
   "display_name": "Python 3",
   "language": "python",
   "name": "python3"
  },
  "language_info": {
   "codemirror_mode": {
    "name": "ipython",
    "version": 3
   },
   "file_extension": ".py",
   "mimetype": "text/x-python",
   "name": "python",
   "nbconvert_exporter": "python",
   "pygments_lexer": "ipython3",
   "version": "3.5.2"
  },
  "latex_envs": {
   "bibliofile": "biblio.bib",
   "cite_by": "apalike",
   "current_citInitial": 1,
   "eqLabelWithNumbers": true,
   "eqNumInitial": 0
  }
 },
 "nbformat": 4,
 "nbformat_minor": 2
}
